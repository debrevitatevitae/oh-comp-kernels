{
 "cells": [
  {
   "cell_type": "markdown",
   "metadata": {},
   "source": [
    "# Training RBF and classifying the binary Iris dataset\n",
    "For visualization purposes in the paper"
   ]
  },
  {
   "cell_type": "code",
   "execution_count": null,
   "metadata": {},
   "outputs": [],
   "source": [
    "import matplotlib.pyplot as plt\n",
    "import numpy as np\n",
    "import torch\n",
    "from sklearn.datasets import load_iris\n",
    "from sklearn.preprocessing import StandardScaler\n",
    "from torch.utils.data import DataLoader\n",
    "\n",
    "from ohqk.data import LabelledDataset\n",
    "from ohqk.kta_classical import KernelTargetAlignmentLoss, rbf_kernel\n",
    "from ohqk.project_directories import GRAPHICS_DIR\n",
    "from ohqk.train import train\n",
    "from ohqk.utils import relabel_to_m1p1, running_average_filter\n",
    "\n",
    "plt.rcParams[\"text.usetex\"] = True\n",
    "# make the y axis invisible\n",
    "plt.rcParams[\"ytick.left\"] = False\n",
    "plt.rcParams[\"ytick.labelleft\"] = False"
   ]
  },
  {
   "cell_type": "code",
   "execution_count": null,
   "metadata": {},
   "outputs": [],
   "source": [
    "np.random.seed(42)\n",
    "torch.manual_seed(42)\n",
    "\n",
    "X, y = load_iris(return_X_y=True)\n",
    "X = X[y < 2]\n",
    "y = relabel_to_m1p1(y[y < 2])\n",
    "\n",
    "scaler = StandardScaler()\n",
    "X = scaler.fit_transform(X)\n",
    "\n",
    "ds = LabelledDataset(X, y)"
   ]
  },
  {
   "cell_type": "code",
   "execution_count": null,
   "metadata": {},
   "outputs": [],
   "source": [
    "num_epochs = 100\n",
    "num_checkpoints = 50\n",
    "batch_size = 50\n",
    "lr = 1e-1\n",
    "gamma = 10 * torch.rand(1)  # initial gamma\n",
    "gamma.requires_grad = True\n",
    "\n",
    "dl = DataLoader(ds, batch_size=batch_size, shuffle=True)\n",
    "opt = torch.optim.Adam([gamma], lr)\n",
    "loss_function = KernelTargetAlignmentLoss(rbf_kernel)"
   ]
  },
  {
   "cell_type": "code",
   "execution_count": null,
   "metadata": {},
   "outputs": [],
   "source": [
    "print(\"initial gamma:\", gamma.item())\n",
    "# train the model\n",
    "trained_gamma, losses = train(\n",
    "    gamma,\n",
    "    loss_function,\n",
    "    opt,\n",
    "    num_epochs,\n",
    "    dl,\n",
    "    num_checkpoints=num_checkpoints,\n",
    ")\n",
    "print(\"trained gamma:\", trained_gamma.item())"
   ]
  },
  {
   "cell_type": "code",
   "execution_count": null,
   "metadata": {},
   "outputs": [],
   "source": [
    "smooth_losses = running_average_filter(losses, factor=0.6)\n",
    "plt.plot([-s for s in smooth_losses])  # negative sign for kta\n",
    "plt.xlabel(\"epoch\")\n",
    "plt.ylabel(\"KTA\")"
   ]
  },
  {
   "cell_type": "code",
   "execution_count": null,
   "metadata": {},
   "outputs": [],
   "source": [
    "plt.savefig(GRAPHICS_DIR / \"rbf_kta_opt_iris.pdf\")"
   ]
  }
 ],
 "metadata": {
  "kernelspec": {
   "display_name": "venv",
   "language": "python",
   "name": "python3"
  },
  "language_info": {
   "codemirror_mode": {
    "name": "ipython",
    "version": 3
   },
   "file_extension": ".py",
   "mimetype": "text/x-python",
   "name": "python",
   "nbconvert_exporter": "python",
   "pygments_lexer": "ipython3",
   "version": "3.10.13"
  }
 },
 "nbformat": 4,
 "nbformat_minor": 2
}
